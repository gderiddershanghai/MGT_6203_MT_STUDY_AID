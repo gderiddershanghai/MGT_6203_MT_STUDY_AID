{
 "cells": [
  {
   "cell_type": "code",
   "execution_count": 1,
   "id": "97a62e99-b8c4-44ce-8e87-be71573b4d34",
   "metadata": {},
   "outputs": [],
   "source": [
    "import numpy as np\n",
    "import math"
   ]
  },
  {
   "cell_type": "code",
   "execution_count": 12,
   "id": "76870106-5979-4520-b48f-24c42f067584",
   "metadata": {},
   "outputs": [],
   "source": [
    "def acc(x):\n",
    "    a = 3*(x**2)\n",
    "    print(a)\n",
    "    b = 6*x\n",
    "    print(b)\n",
    "    c=8\n",
    "    ans =a-b-c \n",
    "    return ans"
   ]
  },
  {
   "cell_type": "code",
   "execution_count": 13,
   "id": "305d595c-9080-4f06-b1fb-9afeaae148d0",
   "metadata": {},
   "outputs": [
    {
     "name": "stdout",
     "output_type": "stream",
     "text": [
      "48\n",
      "24\n"
     ]
    },
    {
     "data": {
      "text/plain": [
       "16"
      ]
     },
     "execution_count": 13,
     "metadata": {},
     "output_type": "execute_result"
    }
   ],
   "source": [
    "acc(4)"
   ]
  },
  {
   "cell_type": "code",
   "execution_count": 5,
   "id": "508ecb41-2b37-4b99-af3f-e5bb13d395f9",
   "metadata": {},
   "outputs": [
    {
     "data": {
      "text/plain": [
       "-13"
      ]
     },
     "execution_count": 5,
     "metadata": {},
     "output_type": "execute_result"
    }
   ],
   "source": [
    "64-48-32+3"
   ]
  },
  {
   "cell_type": "code",
   "execution_count": 77,
   "id": "75110c77-d278-448d-bc6f-7d575f1de610",
   "metadata": {},
   "outputs": [],
   "source": [
    "n = 4\n",
    "k = 2\n",
    "p = (1/365)\n",
    "q = 1-p"
   ]
  },
  {
   "cell_type": "code",
   "execution_count": 87,
   "id": "bd5bc9bb-3481-4e10-a2bd-82e8875e4342",
   "metadata": {},
   "outputs": [],
   "source": [
    "x4 = math.comb(n,k)*(p**(k))*(q**(n-k))"
   ]
  },
  {
   "cell_type": "code",
   "execution_count": 86,
   "id": "42503396-52f3-4f5f-93e6-4abad53cd3c2",
   "metadata": {},
   "outputs": [],
   "source": [
    "x3 = math.comb(n,k)*(p**(k))*(q**(n-k))"
   ]
  },
  {
   "cell_type": "code",
   "execution_count": 132,
   "id": "2d622501-079e-4fce-a813-dcf293992528",
   "metadata": {},
   "outputs": [
    {
     "data": {
      "text/plain": [
       "34650.0"
      ]
     },
     "execution_count": 132,
     "metadata": {},
     "output_type": "execute_result"
    }
   ],
   "source": [
    "math.factorial(12)/13824"
   ]
  },
  {
   "cell_type": "code",
   "execution_count": 4,
   "id": "20238f1b-cc51-46eb-8300-d2e8facac359",
   "metadata": {},
   "outputs": [
    {
     "ename": "SyntaxError",
     "evalue": "invalid syntax (2528296099.py, line 1)",
     "output_type": "error",
     "traceback": [
      "\u001b[0;36m  Cell \u001b[0;32mIn [4], line 1\u001b[0;36m\u001b[0m\n\u001b[0;31m    (exp(-3*lambda))*(lambda^6)/12\u001b[0m\n\u001b[0m            ^\u001b[0m\n\u001b[0;31mSyntaxError\u001b[0m\u001b[0;31m:\u001b[0m invalid syntax\n"
     ]
    }
   ],
   "source": [
    "(exp(-3*lambda))*(lambda^6)/12"
   ]
  },
  {
   "cell_type": "code",
   "execution_count": 15,
   "id": "86e83145-3d0a-481a-a575-9d07176150f0",
   "metadata": {},
   "outputs": [
    {
     "data": {
      "text/plain": [
       "576"
      ]
     },
     "execution_count": 15,
     "metadata": {},
     "output_type": "execute_result"
    }
   ],
   "source": [
    "25**2-49"
   ]
  },
  {
   "cell_type": "code",
   "execution_count": 18,
   "id": "8d407443-e290-4deb-931c-2151dd27fd8c",
   "metadata": {},
   "outputs": [
    {
     "data": {
      "text/plain": [
       "24.0"
      ]
     },
     "execution_count": 18,
     "metadata": {},
     "output_type": "execute_result"
    }
   ],
   "source": [
    "np.sqrt(576)\n"
   ]
  },
  {
   "cell_type": "code",
   "execution_count": 13,
   "id": "26af4dcb-0256-4365-afb3-a49abfb56c0d",
   "metadata": {},
   "outputs": [
    {
     "data": {
      "text/plain": [
       "[]"
      ]
     },
     "execution_count": 13,
     "metadata": {},
     "output_type": "execute_result"
    }
   ],
   "source": [
    "mle_solution"
   ]
  },
  {
   "cell_type": "code",
   "execution_count": 21,
   "id": "206a4730-55ba-46c3-ae41-890d5b8ae4a1",
   "metadata": {},
   "outputs": [
    {
     "data": {
      "text/plain": [
       "204.75"
      ]
     },
     "execution_count": 21,
     "metadata": {},
     "output_type": "execute_result"
    }
   ],
   "source": [
    "625-20.5**2"
   ]
  },
  {
   "cell_type": "code",
   "execution_count": 31,
   "id": "d3b3ac9c-7afb-4cb3-8b33-9388f0ca19ac",
   "metadata": {},
   "outputs": [],
   "source": [
    "from matplotlib import pyplot as plt\n",
    "import seaborn as sns"
   ]
  },
  {
   "cell_type": "code",
   "execution_count": 32,
   "id": "782bb387-e30b-4fb6-9ddf-36bdc42c47e6",
   "metadata": {},
   "outputs": [],
   "source": [
    "questions_12331 = {\"fp\" : '../imgs/lilies.jpg',\n",
    "               'questions': [{'question': \"In Ordinary Least Squares we are trying to minimize:\",\n",
    "            'options_list': ['The Median Absolute Error', 'The Mean Absolute Error', 'The Sum of Squared Error', 'The Root Mean Squared Error'],\n",
    "            'correct_answer': 'The Sum of Squared Error',\n",
    "            },{\n",
    "            'question': \"In Ordinary Least Squares we are trying to minimize:\",\n",
    "            'options_list': ['The Median Absolute Error', 'The Mean Absolute Error', 'The Sum of Squared Error', 'The Root Mean Squared Error'],\n",
    "            'correct_answer': 'The Sum of Squared Error'}]}"
   ]
  },
  {
   "cell_type": "code",
   "execution_count": 42,
   "id": "6aba995e-e539-46fe-86fb-df87956a83c6",
   "metadata": {},
   "outputs": [
    {
     "data": {
      "image/png": "[encoded data removed]",
      "text/plain": [
       "<Figure size 800x600 with 1 Axes>"
      ]
     },
     "metadata": {},
     "output_type": "display_data"
    }
   ],
   "source": [
    "# Generating a more realistic and high-performing confusion matrix with metrics in the high 80s or 90s\n",
    "\n",
    "# For demonstration, we'll manually set a confusion matrix that reflects high performance\n",
    "# This is a hypothetical scenario for a disease prediction model with improved metrics\n",
    "cm_improved = np.array([[850, 150], [50, 950]])  # Adjusted for high performance\n",
    "\n",
    "# Plotting the improved confusion matrix\n",
    "plt.figure(figsize=(8, 6))\n",
    "sns.heatmap(cm_improved, annot=True, fmt=\"d\", cmap=\"magma\", cbar=False,\n",
    "            xticklabels=['Predicted Negative', 'Predicted Positive'],\n",
    "            yticklabels=['Actual Negative', 'Actual Positive'])\n",
    "plt.title('Confusion Matrix for Improved Disease Prediction')\n",
    "plt.ylabel('Actual label')\n",
    "plt.xlabel('Predicted label')\n",
    "plt.savefig(fname='confusion_matrix_3')\n",
    "\n"
   ]
  },
  {
   "cell_type": "code",
   "execution_count": null,
   "id": "2468e82b-8b7c-42c5-82da-08f157ec5b5e",
   "metadata": {},
   "outputs": [],
   "source": [
    "# Calculating improved metrics\n",
    "total = cm_improved.sum()\n",
    "correct = cm_improved[0, 0] + cm_improved[1, 1]\n",
    "accuracy_improved = correct / total * 100\n",
    "precision_improved = cm_improved[1, 1] / (cm_improved[1, 1] + cm_improved[0, 1]) * 100\n",
    "recall_improved = cm_improved[1, 1] / (cm_improved[1, 1] + cm_improved[1, 0]) * 100\n",
    "specificity_improved = cm_improved[0, 0] / (cm_improved[0, 0] + cm_improved[0, 1]) * 100\n",
    "\n",
    "accuracy_improved, precision_improved, recall_improved, specificity_improved"
   ]
  },
  {
   "cell_type": "code",
   "execution_count": null,
   "id": "9892c291-7565-408b-b41d-43dc1e54755b",
   "metadata": {},
   "outputs": [],
   "source": []
  },
  {
   "cell_type": "code",
   "execution_count": null,
   "id": "9d9ca88b-c952-45b5-92fd-6dd86e5f0c0b",
   "metadata": {},
   "outputs": [],
   "source": [
    "# Generating a new confusion matrix for a hypothetical scenario predicting product defects\n",
    "# Adjusting the confusion matrix to reflect a realistic scenario with high performance\n",
    "\n",
    "# For simplicity, let's manually set this new confusion matrix\n",
    "cm_product_defects = np.array([[940, 60], [30, 970]])  # Adjusted for a high-performing scenario in product defect prediction\n",
    "\n",
    "# Plotting the improved confusion matrix\n",
    "plt.figure(figsize=(8, 6))\n",
    "sns.heatmap(cm_product_defects, annot=True, fmt=\"d\", cmap=\"viridis\", cbar=False,\n",
    "            xticklabels=['Predicted Non-Defective', 'Predicted Defective'],\n",
    "            yticklabels=['Actual Non-Defective', 'Actual Defective'])\n",
    "plt.title('Confusion Matrix for Predicted Product Defects')\n",
    "plt.ylabel('Actual label')\n",
    "plt.xlabel('Predicted label')\n",
    "\n",
    "plt.savefig(fname='confusion_matrix_2')"
   ]
  },
  {
   "cell_type": "code",
   "execution_count": 43,
   "id": "905884b3-3ce2-4e3b-8b52-8548904b69a3",
   "metadata": {},
   "outputs": [
    {
     "name": "stdout",
     "output_type": "stream",
     "text": [
      "                            OLS Regression Results                            \n",
      "==============================================================================\n",
      "Dep. Variable:                  Sales   R-squared:                       0.214\n",
      "Model:                            OLS   Adj. R-squared:                  0.212\n",
      "Method:                 Least Squares   F-statistic:                     108.2\n",
      "Date:                Wed, 06 Mar 2024   Prob (F-statistic):           1.41e-22\n",
      "Time:                        22:41:00   Log-Likelihood:                -933.68\n",
      "No. Observations:                 400   AIC:                             1871.\n",
      "Df Residuals:                     398   BIC:                             1879.\n",
      "Df Model:                           1                                         \n",
      "Covariance Type:            nonrobust                                         \n",
      "==============================================================================\n",
      "                 coef    std err          t      P>|t|      [0.025      0.975]\n",
      "------------------------------------------------------------------------------\n",
      "Intercept     15.0396      0.667     22.534      0.000      13.727      16.352\n",
      "Price         -0.0679      0.007    -10.402      0.000      -0.081      -0.055\n",
      "==============================================================================\n",
      "Omnibus:                        0.807   Durbin-Watson:                   1.997\n",
      "Prob(Omnibus):                  0.668   Jarque-Bera (JB):                0.873\n",
      "Skew:                           0.105   Prob(JB):                        0.646\n",
      "Kurtosis:                       2.909   Cond. No.                         545.\n",
      "==============================================================================\n",
      "\n",
      "Notes:\n",
      "[1] Standard Errors assume that the covariance matrix of the errors is correctly specified.\n"
     ]
    }
   ],
   "source": [
    "import statsmodels.api as sm\n",
    "import statsmodels.formula.api as smf\n",
    "import pandas as pd\n",
    "\n",
    "# Simulating a dataset similar to the \"Carseats\" dataset with 'Sales' and 'Price' columns\n",
    "np.random.seed(42) # For reproducible results\n",
    "n_samples = 400\n",
    "price = np.random.normal(100, 20, n_samples)\n",
    "sales = 13.64 - 0.053 * price + np.random.normal(0, 2.5, n_samples)\n",
    "\n",
    "# Creating a DataFrame\n",
    "carseats_df = pd.DataFrame({\n",
    "    'Sales': sales,\n",
    "    'Price': price\n",
    "})\n",
    "\n",
    "# Linear regression model\n",
    "model1 = smf.ols('Sales ~ Price', data=carseats_df).fit()\n",
    "\n",
    "# Summary of the model\n",
    "summary = model1.summary()\n",
    "print(summary)\n"
   ]
  },
  {
   "cell_type": "code",
   "execution_count": 44,
   "id": "3e835299-4955-4c0f-9974-4ebc55f9d94a",
   "metadata": {},
   "outputs": [
    {
     "data": {
      "text/html": [
       "<table class=\"simpletable\">\n",
       "<caption>OLS Regression Results</caption>\n",
       "<tr>\n",
       "  <th>Dep. Variable:</th>          <td>Sales</td>      <th>  R-squared:         </th> <td>   0.214</td>\n",
       "</tr>\n",
       "<tr>\n",
       "  <th>Model:</th>                   <td>OLS</td>       <th>  Adj. R-squared:    </th> <td>   0.212</td>\n",
       "</tr>\n",
       "<tr>\n",
       "  <th>Method:</th>             <td>Least Squares</td>  <th>  F-statistic:       </th> <td>   108.2</td>\n",
       "</tr>\n",
       "<tr>\n",
       "  <th>Date:</th>             <td>Wed, 06 Mar 2024</td> <th>  Prob (F-statistic):</th> <td>1.41e-22</td>\n",
       "</tr>\n",
       "<tr>\n",
       "  <th>Time:</th>                 <td>22:41:00</td>     <th>  Log-Likelihood:    </th> <td> -933.68</td>\n",
       "</tr>\n",
       "<tr>\n",
       "  <th>No. Observations:</th>      <td>   400</td>      <th>  AIC:               </th> <td>   1871.</td>\n",
       "</tr>\n",
       "<tr>\n",
       "  <th>Df Residuals:</th>          <td>   398</td>      <th>  BIC:               </th> <td>   1879.</td>\n",
       "</tr>\n",
       "<tr>\n",
       "  <th>Df Model:</th>              <td>     1</td>      <th>                     </th>     <td> </td>   \n",
       "</tr>\n",
       "<tr>\n",
       "  <th>Covariance Type:</th>      <td>nonrobust</td>    <th>                     </th>     <td> </td>   \n",
       "</tr>\n",
       "</table>\n",
       "<table class=\"simpletable\">\n",
       "<tr>\n",
       "      <td></td>         <th>coef</th>     <th>std err</th>      <th>t</th>      <th>P>|t|</th>  <th>[0.025</th>    <th>0.975]</th>  \n",
       "</tr>\n",
       "<tr>\n",
       "  <th>Intercept</th> <td>   15.0396</td> <td>    0.667</td> <td>   22.534</td> <td> 0.000</td> <td>   13.727</td> <td>   16.352</td>\n",
       "</tr>\n",
       "<tr>\n",
       "  <th>Price</th>     <td>   -0.0679</td> <td>    0.007</td> <td>  -10.402</td> <td> 0.000</td> <td>   -0.081</td> <td>   -0.055</td>\n",
       "</tr>\n",
       "</table>\n",
       "<table class=\"simpletable\">\n",
       "<tr>\n",
       "  <th>Omnibus:</th>       <td> 0.807</td> <th>  Durbin-Watson:     </th> <td>   1.997</td>\n",
       "</tr>\n",
       "<tr>\n",
       "  <th>Prob(Omnibus):</th> <td> 0.668</td> <th>  Jarque-Bera (JB):  </th> <td>   0.873</td>\n",
       "</tr>\n",
       "<tr>\n",
       "  <th>Skew:</th>          <td> 0.105</td> <th>  Prob(JB):          </th> <td>   0.646</td>\n",
       "</tr>\n",
       "<tr>\n",
       "  <th>Kurtosis:</th>      <td> 2.909</td> <th>  Cond. No.          </th> <td>    545.</td>\n",
       "</tr>\n",
       "</table><br/><br/>Notes:<br/>[1] Standard Errors assume that the covariance matrix of the errors is correctly specified."
      ],
      "text/plain": [
       "<class 'statsmodels.iolib.summary.Summary'>\n",
       "\"\"\"\n",
       "                            OLS Regression Results                            \n",
       "==============================================================================\n",
       "Dep. Variable:                  Sales   R-squared:                       0.214\n",
       "Model:                            OLS   Adj. R-squared:                  0.212\n",
       "Method:                 Least Squares   F-statistic:                     108.2\n",
       "Date:                Wed, 06 Mar 2024   Prob (F-statistic):           1.41e-22\n",
       "Time:                        22:41:00   Log-Likelihood:                -933.68\n",
       "No. Observations:                 400   AIC:                             1871.\n",
       "Df Residuals:                     398   BIC:                             1879.\n",
       "Df Model:                           1                                         \n",
       "Covariance Type:            nonrobust                                         \n",
       "==============================================================================\n",
       "                 coef    std err          t      P>|t|      [0.025      0.975]\n",
       "------------------------------------------------------------------------------\n",
       "Intercept     15.0396      0.667     22.534      0.000      13.727      16.352\n",
       "Price         -0.0679      0.007    -10.402      0.000      -0.081      -0.055\n",
       "==============================================================================\n",
       "Omnibus:                        0.807   Durbin-Watson:                   1.997\n",
       "Prob(Omnibus):                  0.668   Jarque-Bera (JB):                0.873\n",
       "Skew:                           0.105   Prob(JB):                        0.646\n",
       "Kurtosis:                       2.909   Cond. No.                         545.\n",
       "==============================================================================\n",
       "\n",
       "Notes:\n",
       "[1] Standard Errors assume that the covariance matrix of the errors is correctly specified.\n",
       "\"\"\""
      ]
     },
     "execution_count": 44,
     "metadata": {},
     "output_type": "execute_result"
    }
   ],
   "source": [
    "summary.sa"
   ]
  },
  {
   "cell_type": "code",
   "execution_count": 47,
   "id": "e7e0b091-4a82-427d-b1de-35bfa6a2af52",
   "metadata": {},
   "outputs": [
    {
     "data": {
      "text/html": [
       "<div>\n",
       "<style scoped>\n",
       "    .dataframe tbody tr th:only-of-type {\n",
       "        vertical-align: middle;\n",
       "    }\n",
       "\n",
       "    .dataframe tbody tr th {\n",
       "        vertical-align: top;\n",
       "    }\n",
       "\n",
       "    .dataframe thead th {\n",
       "        text-align: right;\n",
       "    }\n",
       "</style>\n",
       "<table border=\"1\" class=\"dataframe\">\n",
       "  <thead>\n",
       "    <tr style=\"text-align: right;\">\n",
       "      <th></th>\n",
       "      <th>country</th>\n",
       "      <th>continent</th>\n",
       "      <th>year</th>\n",
       "      <th>lifeExp</th>\n",
       "      <th>pop</th>\n",
       "      <th>gdpPercap</th>\n",
       "    </tr>\n",
       "  </thead>\n",
       "  <tbody>\n",
       "    <tr>\n",
       "      <th>0</th>\n",
       "      <td>Afghanistan</td>\n",
       "      <td>Asia</td>\n",
       "      <td>1952</td>\n",
       "      <td>28.801</td>\n",
       "      <td>8425333</td>\n",
       "      <td>779.445314</td>\n",
       "    </tr>\n",
       "    <tr>\n",
       "      <th>1</th>\n",
       "      <td>Afghanistan</td>\n",
       "      <td>Asia</td>\n",
       "      <td>1957</td>\n",
       "      <td>30.332</td>\n",
       "      <td>9240934</td>\n",
       "      <td>820.853030</td>\n",
       "    </tr>\n",
       "    <tr>\n",
       "      <th>2</th>\n",
       "      <td>Afghanistan</td>\n",
       "      <td>Asia</td>\n",
       "      <td>1962</td>\n",
       "      <td>31.997</td>\n",
       "      <td>10267083</td>\n",
       "      <td>853.100710</td>\n",
       "    </tr>\n",
       "    <tr>\n",
       "      <th>3</th>\n",
       "      <td>Afghanistan</td>\n",
       "      <td>Asia</td>\n",
       "      <td>1967</td>\n",
       "      <td>34.020</td>\n",
       "      <td>11537966</td>\n",
       "      <td>836.197138</td>\n",
       "    </tr>\n",
       "    <tr>\n",
       "      <th>4</th>\n",
       "      <td>Afghanistan</td>\n",
       "      <td>Asia</td>\n",
       "      <td>1972</td>\n",
       "      <td>36.088</td>\n",
       "      <td>13079460</td>\n",
       "      <td>739.981106</td>\n",
       "    </tr>\n",
       "  </tbody>\n",
       "</table>\n",
       "</div>"
      ],
      "text/plain": [
       "       country continent  year  lifeExp       pop   gdpPercap\n",
       "0  Afghanistan      Asia  1952   28.801   8425333  779.445314\n",
       "1  Afghanistan      Asia  1957   30.332   9240934  820.853030\n",
       "2  Afghanistan      Asia  1962   31.997  10267083  853.100710\n",
       "3  Afghanistan      Asia  1967   34.020  11537966  836.197138\n",
       "4  Afghanistan      Asia  1972   36.088  13079460  739.981106"
      ]
     },
     "execution_count": 47,
     "metadata": {},
     "output_type": "execute_result"
    }
   ],
   "source": [
    "# Loading the uploaded dataset \"gapminder.csv\" to perform a statistical analysis\n",
    "gapminder_df = pd.read_csv('gapminder.csv')\n",
    "\n",
    "# Displaying the first few rows of the dataset to understand its structure\n",
    "gapminder_df.head()\n"
   ]
  },
  {
   "cell_type": "code",
   "execution_count": 49,
   "id": "c98ffccd-2ec7-423c-94b7-1b2011162cfb",
   "metadata": {},
   "outputs": [
    {
     "name": "stdout",
     "output_type": "stream",
     "text": [
      "                            OLS Regression Results                            \n",
      "==============================================================================\n",
      "Dep. Variable:                lifeExp   R-squared:                       0.461\n",
      "Model:                            OLS   Adj. R-squared:                  0.457\n",
      "Method:                 Least Squares   F-statistic:                     119.5\n",
      "Date:                Wed, 06 Mar 2024   Prob (F-statistic):           1.69e-20\n",
      "Time:                        23:07:53   Log-Likelihood:                -510.88\n",
      "No. Observations:                 142   AIC:                             1026.\n",
      "Df Residuals:                     140   BIC:                             1032.\n",
      "Df Model:                           1                                         \n",
      "Covariance Type:            nonrobust                                         \n",
      "==============================================================================\n",
      "                 coef    std err          t      P>|t|      [0.025      0.975]\n",
      "------------------------------------------------------------------------------\n",
      "Intercept     59.5657      1.010     58.952      0.000      57.568      61.563\n",
      "gdpPercap      0.0006   5.83e-05     10.933      0.000       0.001       0.001\n",
      "==============================================================================\n",
      "Omnibus:                       12.169   Durbin-Watson:                   1.810\n",
      "Prob(Omnibus):                  0.002   Jarque-Bera (JB):               10.722\n",
      "Skew:                          -0.593   Prob(JB):                      0.00470\n",
      "Kurtosis:                       2.363   Cond. No.                     2.35e+04\n",
      "==============================================================================\n",
      "\n",
      "Notes:\n",
      "[1] Standard Errors assume that the covariance matrix of the errors is correctly specified.\n",
      "[2] The condition number is large, 2.35e+04. This might indicate that there are\n",
      "strong multicollinearity or other numerical problems.\n"
     ]
    }
   ],
   "source": [
    "# Filtering the dataset for the year 2007 to simplify the analysis\n",
    "gapminder_2007 = gapminder_df[gapminder_df['year'] == 2007]\n",
    "\n",
    "# Performing a linear regression analysis on life expectancy as a function of GDP per capita for the year 2007\n",
    "model_gapminder = smf.ols('lifeExp ~ gdpPercap', data=gapminder_2007).fit()\n",
    "\n",
    "# Displaying the summary of the model\n",
    "model_gapminder_summary = model_gapminder.summary()\n",
    "print(model_gapminder_summary)\n",
    "\n"
   ]
  }
 ],
 "metadata": {
  "kernelspec": {
   "display_name": "Python 3 (ipykernel)",
   "language": "python",
   "name": "python3"
  },
  "language_info": {
   "codemirror_mode": {
    "name": "ipython",
    "version": 3
   },
   "file_extension": ".py",
   "mimetype": "text/x-python",
   "name": "python",
   "nbconvert_exporter": "python",
   "pygments_lexer": "ipython3",
   "version": "3.10.6"
  }
 },
 "nbformat": 4,
 "nbformat_minor": 5
}
