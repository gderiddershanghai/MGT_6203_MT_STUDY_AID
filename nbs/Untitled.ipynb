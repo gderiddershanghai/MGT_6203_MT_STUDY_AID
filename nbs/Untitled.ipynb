{
 "cells": [
  {
   "cell_type": "code",
   "execution_count": 64,
   "id": "97a62e99-b8c4-44ce-8e87-be71573b4d34",
   "metadata": {},
   "outputs": [],
   "source": [
    "import numpy as np\n",
    "import math"
   ]
  },
  {
   "cell_type": "code",
   "execution_count": 77,
   "id": "75110c77-d278-448d-bc6f-7d575f1de610",
   "metadata": {},
   "outputs": [],
   "source": [
    "n = 4\n",
    "k = 2\n",
    "p = (1/365)\n",
    "q = 1-p"
   ]
  },
  {
   "cell_type": "code",
   "execution_count": 87,
   "id": "bd5bc9bb-3481-4e10-a2bd-82e8875e4342",
   "metadata": {},
   "outputs": [],
   "source": [
    "x4 = math.comb(n,k)*(p**(k))*(q**(n-k))"
   ]
  },
  {
   "cell_type": "code",
   "execution_count": 86,
   "id": "42503396-52f3-4f5f-93e6-4abad53cd3c2",
   "metadata": {},
   "outputs": [],
   "source": [
    "x3 = math.comb(n,k)*(p**(k))*(q**(n-k))"
   ]
  },
  {
   "cell_type": "code",
   "execution_count": 132,
   "id": "2d622501-079e-4fce-a813-dcf293992528",
   "metadata": {},
   "outputs": [
    {
     "data": {
      "text/plain": [
       "34650.0"
      ]
     },
     "execution_count": 132,
     "metadata": {},
     "output_type": "execute_result"
    }
   ],
   "source": [
    "math.factorial(12)/13824"
   ]
  },
  {
   "cell_type": "code",
   "execution_count": 115,
   "id": "5a42250d-f239-4b0b-9c2d-4ad55da23e9b",
   "metadata": {},
   "outputs": [],
   "source": [
    "n = 10\n",
    "k = 10"
   ]
  },
  {
   "cell_type": "code",
   "execution_count": 125,
   "id": "0a2c87da-26b8-46b1-882a-dda8749bc3ca",
   "metadata": {},
   "outputs": [
    {
     "data": {
      "text/plain": [
       "34650"
      ]
     },
     "execution_count": 125,
     "metadata": {},
     "output_type": "execute_result"
    }
   ],
   "source": [
    "math.comb(12,4)*math.comb(8,4)\n",
    "\n"
   ]
  },
  {
   "cell_type": "code",
   "execution_count": 134,
   "id": "ab60e2ee-7897-4d44-bcd1-ef65f4f7a5a6",
   "metadata": {},
   "outputs": [
    {
     "data": {
      "text/plain": [
       "11550.0"
      ]
     },
     "execution_count": 134,
     "metadata": {},
     "output_type": "execute_result"
    }
   ],
   "source": [
    "34650/3"
   ]
  },
  {
   "cell_type": "code",
   "execution_count": 42,
   "id": "1f2f2b74-0109-4ced-9c43-a5c71dba388b",
   "metadata": {},
   "outputs": [],
   "source": [
    "x1 = (7*x)+5\n",
    "x2 = (2*x)-7"
   ]
  },
  {
   "cell_type": "code",
   "execution_count": 43,
   "id": "0e9a5722-a2b4-4334-8d63-e4f66512142e",
   "metadata": {},
   "outputs": [
    {
     "data": {
      "text/plain": [
       "1490116119384765625"
      ]
     },
     "execution_count": 43,
     "metadata": {},
     "output_type": "execute_result"
    }
   ],
   "source": [
    "5**x1"
   ]
  },
  {
   "cell_type": "code",
   "execution_count": 47,
   "id": "920537da-4732-4d5c-9561-6ceda452ea38",
   "metadata": {},
   "outputs": [
    {
     "data": {
      "text/plain": [
       "1.5395018495629604"
      ]
     },
     "execution_count": 47,
     "metadata": {},
     "output_type": "execute_result"
    }
   ],
   "source": [
    "np.emath.logn(7,20)"
   ]
  },
  {
   "cell_type": "code",
   "execution_count": 50,
   "id": "6574620a-3628-4911-8d88-627ca9071cc0",
   "metadata": {},
   "outputs": [
    {
     "data": {
      "text/plain": [
       "0.17908119122682722"
      ]
     },
     "execution_count": 50,
     "metadata": {},
     "output_type": "execute_result"
    }
   ],
   "source": [
    "(np.emath.logn(7,5)/np.emath.logn(7,20))/3"
   ]
  },
  {
   "cell_type": "code",
   "execution_count": 51,
   "id": "37e14a91-b2a1-4e58-80c6-0dbf24a4dabf",
   "metadata": {},
   "outputs": [
    {
     "data": {
      "text/plain": [
       "0.5372435736804817"
      ]
     },
     "execution_count": 51,
     "metadata": {},
     "output_type": "execute_result"
    }
   ],
   "source": [
    "3*0.17908119122682722"
   ]
  },
  {
   "cell_type": "code",
   "execution_count": 53,
   "id": "19f97bf8-f25b-4857-af4b-a1db31f3320a",
   "metadata": {},
   "outputs": [
    {
     "data": {
      "text/plain": [
       "56.89229938842957"
      ]
     },
     "execution_count": 53,
     "metadata": {},
     "output_type": "execute_result"
    }
   ],
   "source": [
    "(7**0.5372435736804817)*20"
   ]
  }
 ],
 "metadata": {
  "kernelspec": {
   "display_name": "Python 3 (ipykernel)",
   "language": "python",
   "name": "python3"
  },
  "language_info": {
   "codemirror_mode": {
    "name": "ipython",
    "version": 3
   },
   "file_extension": ".py",
   "mimetype": "text/x-python",
   "name": "python",
   "nbconvert_exporter": "python",
   "pygments_lexer": "ipython3",
   "version": "3.10.6"
  }
 },
 "nbformat": 4,
 "nbformat_minor": 5
}
